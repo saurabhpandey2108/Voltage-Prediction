{
 "cells": [
  {
   "cell_type": "code",
   "execution_count": 2,
   "metadata": {},
   "outputs": [],
   "source": [
    "import numpy as np\n",
    "import pandas as pd\n",
    "import matplotlib.pyplot as plt\n",
    "%matplotlib inline \n",
    "import seaborn as sns"
   ]
  },
  {
   "cell_type": "code",
   "execution_count": 5,
   "metadata": {},
   "outputs": [
    {
     "name": "stdout",
     "output_type": "stream",
     "text": [
      "WARNING:tensorflow:From d:\\anaconda3\\Lib\\site-packages\\keras\\src\\losses.py:2976: The name tf.losses.sparse_softmax_cross_entropy is deprecated. Please use tf.compat.v1.losses.sparse_softmax_cross_entropy instead.\n",
      "\n"
     ]
    }
   ],
   "source": [
    "from tensorflow.keras.models import Sequential\n",
    "from tensorflow.keras.layers import LSTM, Dense\n",
    "from sklearn.model_selection import train_test_split\n",
    "from sklearn.preprocessing import MinMaxScaler\n",
    "import numpy as np\n",
    "import pandas as pd\n"
   ]
  },
  {
   "cell_type": "code",
   "execution_count": 6,
   "metadata": {},
   "outputs": [],
   "source": [
    "# Load the dataset\n",
    "data = pd.read_csv('dataset.csv')\n",
    "\n",
    "# Select relevant columns\n",
    "data = data[['Time', 'BatteryCurrent', 'BatteryVoltage']]\n"
   ]
  },
  {
   "cell_type": "code",
   "execution_count": 7,
   "metadata": {},
   "outputs": [
    {
     "data": {
      "text/html": [
       "<div>\n",
       "<style scoped>\n",
       "    .dataframe tbody tr th:only-of-type {\n",
       "        vertical-align: middle;\n",
       "    }\n",
       "\n",
       "    .dataframe tbody tr th {\n",
       "        vertical-align: top;\n",
       "    }\n",
       "\n",
       "    .dataframe thead th {\n",
       "        text-align: right;\n",
       "    }\n",
       "</style>\n",
       "<table border=\"1\" class=\"dataframe\">\n",
       "  <thead>\n",
       "    <tr style=\"text-align: right;\">\n",
       "      <th></th>\n",
       "      <th>Time</th>\n",
       "      <th>BatteryCurrent</th>\n",
       "      <th>BatteryVoltage</th>\n",
       "    </tr>\n",
       "  </thead>\n",
       "  <tbody>\n",
       "    <tr>\n",
       "      <th>0</th>\n",
       "      <td>0.0000</td>\n",
       "      <td>0.000194</td>\n",
       "      <td>3.972338</td>\n",
       "    </tr>\n",
       "    <tr>\n",
       "      <th>1</th>\n",
       "      <td>0.0015</td>\n",
       "      <td>0.048925</td>\n",
       "      <td>3.972173</td>\n",
       "    </tr>\n",
       "    <tr>\n",
       "      <th>2</th>\n",
       "      <td>0.0030</td>\n",
       "      <td>0.096904</td>\n",
       "      <td>3.972009</td>\n",
       "    </tr>\n",
       "    <tr>\n",
       "      <th>3</th>\n",
       "      <td>0.0045</td>\n",
       "      <td>0.144467</td>\n",
       "      <td>3.971847</td>\n",
       "    </tr>\n",
       "    <tr>\n",
       "      <th>4</th>\n",
       "      <td>0.0060</td>\n",
       "      <td>0.191261</td>\n",
       "      <td>3.971688</td>\n",
       "    </tr>\n",
       "  </tbody>\n",
       "</table>\n",
       "</div>"
      ],
      "text/plain": [
       "     Time  BatteryCurrent  BatteryVoltage\n",
       "0  0.0000        0.000194        3.972338\n",
       "1  0.0015        0.048925        3.972173\n",
       "2  0.0030        0.096904        3.972009\n",
       "3  0.0045        0.144467        3.971847\n",
       "4  0.0060        0.191261        3.971688"
      ]
     },
     "execution_count": 7,
     "metadata": {},
     "output_type": "execute_result"
    }
   ],
   "source": [
    "data.head()"
   ]
  },
  {
   "cell_type": "code",
   "execution_count": 8,
   "metadata": {},
   "outputs": [],
   "source": [
    "# Normalize the data using MinMaxScaler\n",
    "scaler = MinMaxScaler()\n",
    "scaled_data = scaler.fit_transform(data)\n",
    "\n",
    "# Prepare input features (Time, BatteryCurrent) and target variable (BatteryVoltage)\n",
    "X = scaled_data[:, :-1]  # Time and BatteryCurrent as input\n",
    "y = scaled_data[:, -1]   # BatteryVoltage as the target"
   ]
  },
  {
   "cell_type": "code",
   "execution_count": 9,
   "metadata": {},
   "outputs": [],
   "source": [
    "# Create a sliding window of size n=5\n",
    "def create_sequences(X, y, window_size=5):\n",
    "    Xs, ys = [], []\n",
    "    for i in range(len(X) - window_size):\n",
    "        Xs.append(X[i:i + window_size])\n",
    "        ys.append(y[i + window_size])\n",
    "    return np.array(Xs), np.array(ys)\n"
   ]
  },
  {
   "cell_type": "code",
   "execution_count": 10,
   "metadata": {},
   "outputs": [],
   "source": [
    "\n",
    "# Set window size and prepare the sequences\n",
    "window_size = 5\n",
    "X_seq, y_seq = create_sequences(X, y, window_size)"
   ]
  },
  {
   "cell_type": "code",
   "execution_count": 11,
   "metadata": {},
   "outputs": [],
   "source": [
    "# Split the data into training and testing sets\n",
    "X_train, X_test, y_train, y_test = train_test_split(X_seq, y_seq, test_size=0.2, random_state=42)"
   ]
  },
  {
   "cell_type": "code",
   "execution_count": 12,
   "metadata": {},
   "outputs": [
    {
     "name": "stdout",
     "output_type": "stream",
     "text": [
      "WARNING:tensorflow:From d:\\anaconda3\\Lib\\site-packages\\keras\\src\\backend.py:873: The name tf.get_default_graph is deprecated. Please use tf.compat.v1.get_default_graph instead.\n",
      "\n"
     ]
    }
   ],
   "source": [
    "# Build the LSTM model\n",
    "model = Sequential()\n",
    "model.add(LSTM(64, activation='relu', input_shape=(X_train.shape[1], X_train.shape[2])))\n",
    "model.add(Dense(1))  # Output layer for BatteryVoltage prediction"
   ]
  },
  {
   "cell_type": "code",
   "execution_count": 13,
   "metadata": {},
   "outputs": [
    {
     "name": "stdout",
     "output_type": "stream",
     "text": [
      "WARNING:tensorflow:From d:\\anaconda3\\Lib\\site-packages\\keras\\src\\optimizers\\__init__.py:309: The name tf.train.Optimizer is deprecated. Please use tf.compat.v1.train.Optimizer instead.\n",
      "\n"
     ]
    }
   ],
   "source": [
    "# Compile the model\n",
    "model.compile(optimizer='adam', loss='mse')"
   ]
  },
  {
   "cell_type": "code",
   "execution_count": 15,
   "metadata": {},
   "outputs": [],
   "source": [
    "from tensorflow.keras.callbacks import EarlyStopping\n",
    "early_stopping_callback=EarlyStopping(monitor='val_loss',patience=10,restore_best_weights=True)"
   ]
  },
  {
   "cell_type": "code",
   "execution_count": 17,
   "metadata": {},
   "outputs": [
    {
     "name": "stdout",
     "output_type": "stream",
     "text": [
      "Epoch 1/50\n",
      "1200/1200 [==============================] - 6s 5ms/step - loss: 2.5278e-04 - val_loss: 2.5694e-04\n",
      "Epoch 2/50\n",
      "1200/1200 [==============================] - 9s 7ms/step - loss: 2.4439e-04 - val_loss: 2.7168e-04\n",
      "Epoch 3/50\n",
      "1200/1200 [==============================] - 10s 8ms/step - loss: 2.2867e-04 - val_loss: 2.3114e-04\n",
      "Epoch 4/50\n",
      "1200/1200 [==============================] - 10s 8ms/step - loss: 2.2766e-04 - val_loss: 1.9695e-04\n",
      "Epoch 5/50\n",
      "1200/1200 [==============================] - 10s 8ms/step - loss: 2.1656e-04 - val_loss: 2.5834e-04\n",
      "Epoch 6/50\n",
      "1200/1200 [==============================] - 9s 8ms/step - loss: 2.1423e-04 - val_loss: 2.5303e-04\n",
      "Epoch 7/50\n",
      "1200/1200 [==============================] - 10s 8ms/step - loss: 2.2666e-04 - val_loss: 2.4172e-04\n",
      "Epoch 8/50\n",
      "1200/1200 [==============================] - 10s 8ms/step - loss: 2.1357e-04 - val_loss: 2.2147e-04\n",
      "Epoch 9/50\n",
      "1200/1200 [==============================] - 10s 8ms/step - loss: 1.9685e-04 - val_loss: 2.2280e-04\n",
      "Epoch 10/50\n",
      "1200/1200 [==============================] - 10s 8ms/step - loss: 2.1090e-04 - val_loss: 2.0544e-04\n",
      "Epoch 11/50\n",
      "1200/1200 [==============================] - 10s 9ms/step - loss: 2.0392e-04 - val_loss: 3.1949e-04\n",
      "Epoch 12/50\n",
      "1200/1200 [==============================] - 5s 4ms/step - loss: 1.9912e-04 - val_loss: 2.1527e-04\n",
      "Epoch 13/50\n",
      "1200/1200 [==============================] - 5s 4ms/step - loss: 2.0488e-04 - val_loss: 1.9855e-04\n",
      "Epoch 14/50\n",
      "1200/1200 [==============================] - 4s 4ms/step - loss: 2.0977e-04 - val_loss: 1.9819e-04\n"
     ]
    },
    {
     "data": {
      "text/plain": [
       "<keras.src.callbacks.History at 0x29b301cda50>"
      ]
     },
     "execution_count": 17,
     "metadata": {},
     "output_type": "execute_result"
    }
   ],
   "source": [
    "# Train the model\n",
    "model.fit(X_train, y_train, epochs=50, batch_size=32, validation_split=0.2,\n",
    "         callbacks=[early_stopping_callback] )"
   ]
  },
  {
   "cell_type": "code",
   "execution_count": 18,
   "metadata": {},
   "outputs": [
    {
     "name": "stdout",
     "output_type": "stream",
     "text": [
      "375/375 [==============================] - 1s 2ms/step - loss: 2.4981e-04\n",
      "Test Loss: 0.0002498134854249656\n"
     ]
    }
   ],
   "source": [
    "# Evaluate the model on the test set\n",
    "test_loss = model.evaluate(X_test, y_test)\n",
    "print('Test Loss:', test_loss)\n"
   ]
  },
  {
   "cell_type": "code",
   "execution_count": 22,
   "metadata": {},
   "outputs": [],
   "source": [
    "# Function to predict next battery voltage given time and current\n",
    "def predict_next_voltage(model, time_values, current_values, scaler, window_size=5):\n",
    "    # Combine time and current values as input\n",
    "    input_sequence = np.array([time_values, current_values]).T  # Shape (window_size, 2)\n",
    "    \n",
    "    # Create a temporary dataframe to scale only Time and BatteryCurrent\n",
    "    input_sequence_with_dummy_voltage = np.zeros((window_size, 3))  # Create dummy column for BatteryVoltage\n",
    "    input_sequence_with_dummy_voltage[:, :2] = input_sequence       # Fill Time and BatteryCurrent columns\n",
    "    \n",
    "    # Scale only the Time and BatteryCurrent columns\n",
    "    input_sequence_scaled = scaler.transform(input_sequence_with_dummy_voltage)[:, :2]  # Scale and extract relevant columns\n",
    "    \n",
    "    # Reshape to match LSTM input shape (1, window_size, 2)\n",
    "    input_sequence_scaled = np.reshape(input_sequence_scaled, (1, window_size, 2))\n",
    "    \n",
    "    # Predict the next battery voltage\n",
    "    predicted_scaled_voltage = model.predict(input_sequence_scaled)\n",
    "    \n",
    "    # Inverse scale the prediction to get the actual battery voltage\n",
    "    inverse_scaled_input = np.zeros((1, 3))  # Create dummy array for inverse scaling\n",
    "    inverse_scaled_input[0, :2] = input_sequence[-1]  # Use the last Time and Current value\n",
    "    inverse_scaled_input[0, 2] = predicted_scaled_voltage  # Add predicted BatteryVoltage\n",
    "    \n",
    "    # Inverse transform to get the original scale\n",
    "    predicted_voltage = scaler.inverse_transform(inverse_scaled_input)[0][2]\n",
    "    \n",
    "    return predicted_voltage"
   ]
  },
  {
   "cell_type": "code",
   "execution_count": 23,
   "metadata": {},
   "outputs": [],
   "source": [
    "# Example input (last 5 time steps and currents)\n",
    "time_values = [0.0100, 0.0115, 0.0130, 0.0145, 0.0160]\n",
    "current_values = [0.191261, 0.238776, 0.285627, 0.331660, 0.376706]"
   ]
  },
  {
   "cell_type": "code",
   "execution_count": 24,
   "metadata": {},
   "outputs": [
    {
     "name": "stderr",
     "output_type": "stream",
     "text": [
      "d:\\anaconda3\\Lib\\site-packages\\sklearn\\base.py:493: UserWarning: X does not have valid feature names, but MinMaxScaler was fitted with feature names\n",
      "  warnings.warn(\n"
     ]
    },
    {
     "name": "stdout",
     "output_type": "stream",
     "text": [
      "1/1 [==============================] - 0s 274ms/step\n",
      "Predicted Next Battery Voltage: 2.6264595878081933\n"
     ]
    },
    {
     "name": "stderr",
     "output_type": "stream",
     "text": [
      "C:\\Users\\saura\\AppData\\Local\\Temp\\ipykernel_2056\\4209454503.py:22: DeprecationWarning: Conversion of an array with ndim > 0 to a scalar is deprecated, and will error in future. Ensure you extract a single element from your array before performing this operation. (Deprecated NumPy 1.25.)\n",
      "  inverse_scaled_input[0, 2] = predicted_scaled_voltage  # Add predicted BatteryVoltage\n"
     ]
    }
   ],
   "source": [
    "# Predict the next battery voltage\n",
    "next_battery_voltage = predict_next_voltage(model, time_values, current_values, scaler)\n",
    "print(\"Predicted Next Battery Voltage:\", next_battery_voltage)\n"
   ]
  },
  {
   "cell_type": "code",
   "execution_count": null,
   "metadata": {},
   "outputs": [],
   "source": []
  }
 ],
 "metadata": {
  "kernelspec": {
   "display_name": "base",
   "language": "python",
   "name": "python3"
  },
  "language_info": {
   "codemirror_mode": {
    "name": "ipython",
    "version": 3
   },
   "file_extension": ".py",
   "mimetype": "text/x-python",
   "name": "python",
   "nbconvert_exporter": "python",
   "pygments_lexer": "ipython3",
   "version": "3.11.7"
  }
 },
 "nbformat": 4,
 "nbformat_minor": 2
}
